{
 "cells": [
  {
   "cell_type": "code",
   "execution_count": null,
   "id": "3e823576",
   "metadata": {},
   "outputs": [],
   "source": [
    "import os\n",
    "import pandas as pd\n",
    "import matplotlib.pyplot as plt\n",
    "import seaborn as sns\n",
    "import numpy as np\n",
    "import json\n",
    "plt.rcParams['figure.dpi'] = 100"
   ]
  },
  {
   "cell_type": "code",
   "execution_count": null,
   "id": "327062d6",
   "metadata": {},
   "outputs": [],
   "source": [
    "with open(\"benchmarks/env_info.txt\") as f:\n",
    "    env_info = json.load(f)\n",
    "\n",
    "print(json.dumps(env_info, indent=2))"
   ]
  },
  {
   "cell_type": "code",
   "execution_count": null,
   "id": "db75363d",
   "metadata": {},
   "outputs": [],
   "source": [
    "RESULTS_FILE_PATH = \"benchmarks/results/pairwise_dist.csv\"\n",
    "df = pd.read_csv(RESULTS_FILE_PATH)"
   ]
  },
  {
   "cell_type": "code",
   "execution_count": null,
   "id": "a77c570c",
   "metadata": {},
   "outputs": [],
   "source": [
    "cols = [\"n_samples\", \"n_samples\", \"n_features\"]\n",
    "df[cols] = df[cols].astype(np.uint32)"
   ]
  },
  {
   "cell_type": "code",
   "execution_count": null,
   "id": "757c3a81",
   "metadata": {},
   "outputs": [],
   "source": [
    "df_grouped = df.groupby([\"n_samples\", \"n_features\"])"
   ]
  },
  {
   "cell_type": "code",
   "execution_count": null,
   "id": "3bea789a",
   "metadata": {},
   "outputs": [],
   "source": [
    "y_labels = {\n",
    "    \"time_elapsed\": \"Time elapsed (in s)\",\n",
    "    \"throughput\": \"Thoughput (in GB/s)\"\n",
    "}"
   ]
  },
  {
   "cell_type": "code",
   "execution_count": null,
   "id": "ba51a22e",
   "metadata": {},
   "outputs": [],
   "source": [
    "OPENBLAS_NUM_THREADS = env_info[\"threadpool_info\"][0][\"num_threads\"]\n",
    "OMP_NUM_THREADS = env_info[\"threadpool_info\"][1][\"num_threads\"]"
   ]
  },
  {
   "cell_type": "code",
   "execution_count": null,
   "id": "f18dbc10",
   "metadata": {
    "scrolled": false
   },
   "outputs": [],
   "source": [
    "for vals, df in df_grouped:\n",
    "    fig, axes = plt.subplots(nrows=1, ncols=2, figsize=(20, 10))\n",
    "    axes = axes.flatten()\n",
    "    for col, ax in zip([\"time_elapsed\", \"throughput\"], axes):\n",
    "        _ = sns.barplot(x=df[\"implementation\"], y=col, hue=\"implementation\", data=df, ax=ax)\n",
    "        _ = ax.set_ylabel(y_labels[col])\n",
    "            _ = ax.set_xlabel(\"\")\n",
    "    title = f\"Pairwise distances, dtype=np.float64, \"\n",
    "    title += f\"OMP_NUM_THREADS={OMP_NUM_THREADS}, OPENBLAS_NUM_THREADS={OPENBLAS_NUM_THREADS}\\n\"\n",
    "    title += \"n_samples=%s, n_features=%s\" % vals\n",
    "    _ = fig.suptitle(title, fontsize=16)"
   ]
  }
 ],
 "metadata": {
  "kernelspec": {
   "display_name": "Python 3",
   "language": "python",
   "name": "python3"
  },
  "language_info": {
   "codemirror_mode": {
    "name": "ipython",
    "version": 3
   },
   "file_extension": ".py",
   "mimetype": "text/x-python",
   "name": "python",
   "nbconvert_exporter": "python",
   "pygments_lexer": "ipython3",
   "version": "3.9.4"
  }
 },
 "nbformat": 4,
 "nbformat_minor": 5
}
