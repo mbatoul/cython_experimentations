{
 "cells": [
  {
   "cell_type": "code",
   "execution_count": 49,
   "id": "cbe8d557",
   "metadata": {},
   "outputs": [],
   "source": [
    "import numpy as np\n",
    "import matplotlib.pyplot as plt\n",
    "from sklearn.datasets import make_blobs\n",
    "from sklearn.cluster import KMeans\n",
    "from scipy.spatial.distance import cdist"
   ]
  },
  {
   "cell_type": "code",
   "execution_count": 64,
   "id": "28b0229c",
   "metadata": {
    "scrolled": false
   },
   "outputs": [],
   "source": [
    "def kmeans(X, n_centers=3, max_iter=300):\n",
    "    random_indices = np.random.choice(X.shape[0], n_centers)\n",
    "    centroids = X[random_indices]\n",
    "    labels = np.argmin(cdist(X, centroids), axis=1)\n",
    "    for _ in range(max_iter):\n",
    "        old_centroids = centroids\n",
    "        dist = cdist(X, centroids)\n",
    "        labels = np.argmin(dist, axis=1)\n",
    "        centroids = np.array([X[labels == i].mean(0) for i in range(n_centers)])\n",
    "        if np.all(centroids == old_centroids):\n",
    "            break\n",
    "    return centroids, labels"
   ]
  },
  {
   "cell_type": "code",
   "execution_count": 85,
   "id": "e559f2ec",
   "metadata": {},
   "outputs": [],
   "source": [
    "def test_correctness(n_samples=1000, n_features=2, cluster_std=3.0, n_centers=3, random_state=42):\n",
    "    X, y = make_blobs(n_samples=n_samples, n_features=n_features, cluster_std=cluster_std, centers=n_centers, random_state=random_state)\n",
    "    actual_centers, actual_labels = kmeans(X, n_centers=n_centers)\n",
    "    \n",
    "    km_instance = KMeans(n_clusters=n_centers).fit(X)\n",
    "    expected_centers = km_instance.cluster_centers_\n",
    "    expected_labels = km_instance.labels_\n",
    "    \n",
    "    assert actual_centers.shape[0] == n_centers\n",
    "    assert X.shape[0] == actual_labels.shape[0]\n",
    "\n",
    "    unique_labels = np.unique(expected_labels)\n",
    "\n",
    "    for i in unique_labels:\n",
    "        plt.scatter(X[expected_labels == i, 0] , X[expected_labels == i, 1], label=i)\n",
    "    plt.scatter(actual_centers[:, 0] , actual_centers[:, 1] , s = 60, color = 'k')\n",
    "    #plt.scatter(expected_centers[:, 0] , expected_centers[:, 1] , s = 80, color = 'k')\n",
    "    plt.legend()\n",
    "    plt.show()\n",
    "    \n",
    "    np.testing.assert_allclose(actual_centers, expected_centers, atol=3*np.std(X), verbose=True)"
   ]
  },
  {
   "cell_type": "code",
   "execution_count": 86,
   "id": "d7d26347",
   "metadata": {},
   "outputs": [
    {
     "data": {
      "image/png": "[encoded data removed]",
      "text/plain": [
       "<Figure size 432x288 with 1 Axes>"
      ]
     },
     "metadata": {
      "needs_background": "light"
     },
     "output_type": "display_data"
    }
   ],
   "source": [
    "test_correctness(n_samples=1000, n_features=2, cluster_std=1, n_centers=3)"
   ]
  }
 ],
 "metadata": {
  "kernelspec": {
   "display_name": "Python 3",
   "language": "python",
   "name": "python3"
  },
  "language_info": {
   "codemirror_mode": {
    "name": "ipython",
    "version": 3
   },
   "file_extension": ".py",
   "mimetype": "text/x-python",
   "name": "python",
   "nbconvert_exporter": "python",
   "pygments_lexer": "ipython3",
   "version": "3.9.4"
  }
 },
 "nbformat": 4,
 "nbformat_minor": 5
}
