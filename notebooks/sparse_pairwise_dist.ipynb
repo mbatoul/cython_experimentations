{
 "cells": [
  {
   "cell_type": "code",
   "execution_count": null,
   "id": "5ac317e8",
   "metadata": {},
   "outputs": [],
   "source": [
    "import itertools\n",
    "import numpy as np\n",
    "from scipy.sparse import csr_matrix\n",
    "from sklearn.metrics import pairwise_distances"
   ]
  },
  {
   "cell_type": "code",
   "execution_count": null,
   "id": "42087a79",
   "metadata": {},
   "outputs": [],
   "source": [
    "def gen_sparse_matrix(X):\n",
    "    X[X < 0] = 0\n",
    "    X_csr = csr_matrix(X)\n",
    "    return X_csr"
   ]
  },
  {
   "cell_type": "code",
   "execution_count": null,
   "id": "e7c2604e",
   "metadata": {},
   "outputs": [],
   "source": [
    "def dist_sparse_sparse(X, Y, metric=\"euclidean\"):\n",
    "    X_csr = gen_sparse_matrix(X)\n",
    "    Y_csr = gen_sparse_matrix(Y)\n",
    "    n_X, n_Y = X.shape[0], Y.shape[0]\n",
    "    distances = np.empty(shape=(n_X, n_Y))\n",
    "    \n",
    "    for i in range(n_X):\n",
    "        for j in range(n_Y):\n",
    "            dist = 0\n",
    "            X_indices = X_csr.indices[X_csr.indptr[i]:X_csr.indptr[i+1]]\n",
    "            Y_indices = Y_csr.indices[Y_csr.indptr[j]:Y_csr.indptr[j+1]]\n",
    "            k, l = 0, 0\n",
    "            while k < len(X_indices) and l < len(Y_indices):\n",
    "                if X_indices[k] == Y_indices[l]:\n",
    "                    dist += (X_csr.data[k] - Y_csr.data[l]) ** 2\n",
    "                    k += 1\n",
    "                    l += 1\n",
    "                elif k < l:\n",
    "                    k += 1\n",
    "                else:\n",
    "                    l += 1\n",
    "            distances[i, j] = np.sqrt(dist)\n",
    "\n",
    "    return distances"
   ]
  },
  {
   "cell_type": "code",
   "execution_count": null,
   "id": "cfddb6a3",
   "metadata": {},
   "outputs": [],
   "source": [
    "def test_correctness(n_samples, n_features, metric=\"euclidean\"):\n",
    "    X = np.random.randint(-10, 10, size=(n_samples, n_features))\n",
    "    Y = np.random.randint(-10, 10, size=(n_samples, n_features))\n",
    "    \n",
    "    expected_distances = pairwise_distances(X, Y, metric=metric)\n",
    "    actual_distances = dist_sparse_sparse(X, Y, metric=metric)\n",
    "\n",
    "    np.testing.assert_allclose(actual_distances, expected_distances, rtol=1e-04)"
   ]
  },
  {
   "cell_type": "code",
   "execution_count": null,
   "id": "f2250528",
   "metadata": {},
   "outputs": [],
   "source": [
    "for n_samples, n_features in itertools.product([10, 100, 1000, 10000], [10, 100]):\n",
    "    print(f\"(n_samples, n_features): ({n_samples}, {n_features})\")\n",
    "    test_correctness(n_samples, n_features)"
   ]
  }
 ],
 "metadata": {
  "kernelspec": {
   "display_name": "Python 3",
   "language": "python",
   "name": "python3"
  },
  "language_info": {
   "codemirror_mode": {
    "name": "ipython",
    "version": 3
   },
   "file_extension": ".py",
   "mimetype": "text/x-python",
   "name": "python",
   "nbconvert_exporter": "python",
   "pygments_lexer": "ipython3",
   "version": "3.9.4"
  }
 },
 "nbformat": 4,
 "nbformat_minor": 5
}
