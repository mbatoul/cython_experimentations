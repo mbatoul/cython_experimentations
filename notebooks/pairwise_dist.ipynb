{
 "cells": [
  {
   "cell_type": "code",
   "execution_count": null,
   "id": "8e8e7bb8",
   "metadata": {},
   "outputs": [],
   "source": [
    "%load_ext Cython"
   ]
  },
  {
   "cell_type": "markdown",
   "id": "fa2d4319",
   "metadata": {},
   "source": [
    "manggling/demanggling\n",
    "*pointer: access value"
   ]
  },
  {
   "cell_type": "code",
   "execution_count": null,
   "id": "a77b4920",
   "metadata": {},
   "outputs": [],
   "source": [
    "%%cython --annotate --force\n",
    "  \n",
    "# cython: language_level=3\n",
    "# cython: cdivision=True\n",
    "# cython: boundscheck=False\n",
    "# cython: wraparound=False\n",
    "# cython: profile=False\n",
    "# cython: linetrace=False\n",
    "# cython: binding=False\n",
    "# distutils: define_macros=CYTHON_TRACE_NOGIL=0\n",
    "\n",
    "cimport numpy as np\n",
    "import numpy as np\n",
    "from libc.math cimport fabs\n",
    "from cython.parallel cimport prange\n",
    "from cython cimport floating, integral\n",
    "cimport cython\n",
    "\n",
    "cdef floating _l1_distance(\n",
    "    floating[::1] X_a_row,\n",
    "    floating[::1] X_b_row,\n",
    "    integral n_features,\n",
    ") nogil:\n",
    "    cdef:\n",
    "        int i\n",
    "        floating dist = 0\n",
    "    \n",
    "    for i in range(n_features):\n",
    "        dist += fabs(X_a_row[i] - X_b_row[i])\n",
    "        \n",
    "    return dist\n",
    "\n",
    "cdef void _pairwise_dist(\n",
    "    floating[:, ::1] X_a, # IN\n",
    "    floating[:, ::1] X_b, # IN\n",
    "    floating[:, ::1] distances, # OUT\n",
    ") nogil:\n",
    "    cdef:\n",
    "        int i, j\n",
    "        int n_rows_X_a = X_a.shape[0]\n",
    "        int n_rows_X_b = X_b.shape[0]\n",
    "        int n_features = X_a.shape[1]\n",
    "        \n",
    "    for i in prange(n_rows_X_a, nogil=True):\n",
    "        for j in range(n_rows_X_b):\n",
    "            distances[i, j] = _l1_distance(X_a[i], X_b[j], n_features)\n",
    "\n",
    "def pairwise_dist(\n",
    "    floating[:, ::1] X_a,\n",
    "    floating[:, ::1] X_b\n",
    "):\n",
    "    float_dtype = np.float32 if floating is float else np.float64\n",
    "    cdef:\n",
    "        floating[:, ::1] distances = np.zeros([X_a.shape[0], X_b.shape[0]], dtype=float_dtype)\n",
    "    \n",
    "    _pairwise_dist(X_a, X_b, distances)\n",
    "    \n",
    "    return np.asarray(distances)"
   ]
  },
  {
   "cell_type": "code",
   "execution_count": null,
   "id": "155fe403",
   "metadata": {},
   "outputs": [],
   "source": [
    "def time_func(func, *args, **kwargs):\n",
    "    times = []\n",
    "    for _ in range(10):\n",
    "        start = time.perf_counter()\n",
    "        expected = func(*args, **kwargs)\n",
    "        end = time.perf_counter()\n",
    "        time_elapsed = end - start\n",
    "        times.append(time_elapsed)\n",
    "    mean_time = np.mean(times)\n",
    "    return expected, mean_time"
   ]
  },
  {
   "cell_type": "code",
   "execution_count": null,
   "id": "45399b44",
   "metadata": {},
   "outputs": [],
   "source": [
    "from scipy.spatial.distance import cdist\n",
    "import time \n",
    "def test_correctness(n, p, metric=\"cityblock\"):\n",
    "    X_a = np.random.rand(n, p)\n",
    "    X_b = np.random.rand(n, p)\n",
    "    \n",
    "    expected, t1 = time_func(cdist, X_a, X_b, metric=metric)\n",
    "    actual, t2 = time_func(pairwise_dist, X_a, X_b)\n",
    "    print(f\"t1={t1}s\")\n",
    "    print(f\"t2={t2}s\")\n",
    "\n",
    "    np.testing.assert_allclose(actual, expected, verbose=True)"
   ]
  },
  {
   "cell_type": "code",
   "execution_count": null,
   "id": "2cbd23a3",
   "metadata": {},
   "outputs": [],
   "source": [
    "test_correctness(5000, 100)"
   ]
  }
 ],
 "metadata": {
  "kernelspec": {
   "display_name": "Python 3",
   "language": "python",
   "name": "python3"
  },
  "language_info": {
   "codemirror_mode": {
    "name": "ipython",
    "version": 3
   },
   "file_extension": ".py",
   "mimetype": "text/x-python",
   "name": "python",
   "nbconvert_exporter": "python",
   "pygments_lexer": "ipython3",
   "version": "3.9.4"
  }
 },
 "nbformat": 4,
 "nbformat_minor": 5
}
